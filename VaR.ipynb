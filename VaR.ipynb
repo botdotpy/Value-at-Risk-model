{
 "cells": [
  {
   "cell_type": "code",
   "execution_count": 154,
   "metadata": {},
   "outputs": [],
   "source": [
    "#importing packages required for the estimation\n",
    "\n",
    "import numpy as np\n",
    "import pandas as pd\n",
    "import matplotlib.pyplot as plt\n",
    "import yfinance as yf\n",
    "%matplotlib inline\n"
   ]
  },
  {
   "cell_type": "code",
   "execution_count": 155,
   "metadata": {},
   "outputs": [
    {
     "name": "stdout",
     "output_type": "stream",
     "text": [
      "The most recent closing price for MSFT stock is: 335.0199890136719\n"
     ]
    }
   ],
   "source": [
    "MSFT_units = 1000 #units of MSFT shares to hold for a month\n",
    "\n",
    "price = yf.Ticker('MSFT') #derives the live MSFT price from yahoo\n",
    "\n",
    "close_price_MSFT = price.history().tail(1)['Close'].iloc[0] #calling the history method on the live price to derive the last closing price\n",
    "\n",
    "print(\"The most recent closing price for MSFT stock is: {}\".format(close_price_MSFT))"
   ]
  },
  {
   "cell_type": "code",
   "execution_count": 156,
   "metadata": {},
   "outputs": [],
   "source": [
    "value_MSFT = MSFT_units * close_price_MSFT #investment value dervied by multiplying msft_units by the closing price of the stock\n",
    "\n",
    "rfr_MSFT = 0.02 #four week US treasury bill rate as risk free rate\n",
    "\n",
    "vol_MSFT = 0.2116 #30 day MSFT volatitlity"
   ]
  },
  {
   "cell_type": "code",
   "execution_count": 157,
   "metadata": {},
   "outputs": [
    {
     "name": "stdout",
     "output_type": "stream",
     "text": [
      "The sample mean is: -0.01463171843439525\n",
      "The sample mean is: 1.0026073629743972\n"
     ]
    },
    {
     "data": {
      "image/png": "[encoded data removed]",
      "text/plain": [
       "<Figure size 432x288 with 1 Axes>"
      ]
     },
     "metadata": {
      "needs_background": "light"
     },
     "output_type": "display_data"
    }
   ],
   "source": [
    "#defining variables required for var simulation to calculate associated risk for holding 1000 units of MSFT shares for a month\n",
    "\n",
    "simulations = 5000\n",
    "\n",
    "t_MSFT = 21/252 #number of trading dates in a month\n",
    "\n",
    "sample = np.random.standard_normal(simulations) #derives random numbers shaped by the number of simulations \n",
    "\n",
    "plt.hist(sample, bins=100) #to visualize the random values created with a width of 100\n",
    "\n",
    "print(\"The sample mean is: {}\".format(sample.mean()))\n",
    "print(\"The sample mean is: {}\".format(sample.std()))"
   ]
  },
  {
   "cell_type": "code",
   "execution_count": 158,
   "metadata": {},
   "outputs": [],
   "source": [
    "#calculating VaR\n",
    "\n",
    "def VaR(pv, rfr, vol, t, simulations):\n",
    "  end_value = pv * np.exp((rfr - 0.5 * vol **2)* t + np.random.standard_normal(simulations) * vol * np.sqrt(t))\n",
    "  returns = end_value - pv\n",
    "  return returns\n"
   ]
  },
  {
   "cell_type": "code",
   "execution_count": 159,
   "metadata": {},
   "outputs": [],
   "source": [
    "#storing calculated VaR inside variable\n",
    "\n",
    "returns_MSFT = VaR(value_MSFT, rfr_MSFT, vol_MSFT, t_MSFT, simulations)"
   ]
  },
  {
   "cell_type": "code",
   "execution_count": 160,
   "metadata": {},
   "outputs": [
    {
     "name": "stdout",
     "output_type": "stream",
     "text": [
      "VaR at 90% confidence level is: $-27,120\n"
     ]
    }
   ],
   "source": [
    "#setting a confidence level to view VaR\n",
    "\n",
    "x = 0.9\n",
    "y = returns_MSFT[-1] #deriving the last returns MSFT value\n",
    "\n",
    "print(\"VaR at {:.0%} confidence level is: ${:,.0f}\".format(x,y))\n"
   ]
  },
  {
   "cell_type": "code",
   "execution_count": 162,
   "metadata": {},
   "outputs": [
    {
     "name": "stdout",
     "output_type": "stream",
     "text": [
      "VaR at 90% confidence level is: $-25,760\n",
      "VaR at 95% confidence level is: $-32,533\n",
      "VaR at 99% confidence level is: $-45,021\n"
     ]
    },
    {
     "data": {
      "image/png": "[encoded data removed]",
      "text/plain": [
       "<Figure size 432x288 with 1 Axes>"
      ]
     },
     "metadata": {
      "needs_background": "light"
     },
     "output_type": "display_data"
    }
   ],
   "source": [
    "#plotting percentile values on histogram\n",
    "\n",
    "plt.hist(returns_MSFT, bins=100, color = 'orange')\n",
    "\n",
    "percentiles = [10,5,1]\n",
    "\n",
    "#looping through percentiles to derive confidence levels\n",
    "for i in percentiles:\n",
    "  confidence = (100-i)/100 #to return each confidence level as a percentage\n",
    "  value = np.percentile(returns_MSFT, i) #dervies and stores the VaR at each percentile \n",
    "  print(\"VaR at {:.0%} confidence level is: ${:,.0f}\".format(confidence, value))\n",
    "  plt.axvline(value, color = 'red', linestyle = 'dashed', linewidth = 1) # the axvline method plots a dashed line on the percentile returns_MSFT values derived"
   ]
  }
 ],
 "metadata": {
  "kernelspec": {
   "display_name": "Python 3",
   "language": "python",
   "name": "python3"
  },
  "language_info": {
   "codemirror_mode": {
    "name": "ipython",
    "version": 3
   },
   "file_extension": ".py",
   "mimetype": "text/x-python",
   "name": "python",
   "nbconvert_exporter": "python",
   "pygments_lexer": "ipython3",
   "version": "3.9.12"
  },
  "orig_nbformat": 4
 },
 "nbformat": 4,
 "nbformat_minor": 2
}
